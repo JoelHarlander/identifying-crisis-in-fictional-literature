{
 "cells": [
  {
   "cell_type": "markdown",
   "metadata": {},
   "source": [
    "Capstone by Joel Harlander\n",
    "Code is all in python 3.5"
   ]
  },
  {
   "cell_type": "markdown",
   "metadata": {},
   "source": [
    "# The Goal:\n",
    "Using word frequencies extracted purely fictional texts, are we able to pull out and predict if a real world event is occuring?"
   ]
  },
  {
   "cell_type": "markdown",
   "metadata": {},
   "source": [
    "The dataset is large, extra effort was needed to even download the data. \n",
    "\n",
    "http://storage.googleapis.com/books/ngrams/books/datasetsv2.html \n",
    "\n",
    "Data is in a TSV format: \n",
    "\n",
    "ngram TAB year TAB match_count TAB page_count TAB volume_count NEWLINE\n",
    "\n",
    "A good description of an n-gram can be found here: http://text-analytics101.rxnlp.com/2014/11/what-are-n-grams.html"
   ]
  },
  {
   "cell_type": "markdown",
   "metadata": {},
   "source": [
    "The first step is to collect the data from the ngram website.\n",
    "Used requests \n",
    "The download.py had to be run several times as we were not able to download it quick enough to get in in one (or several) sitting(s)\n",
    "\n",
    "Code here:"
   ]
  },
  {
   "cell_type": "code",
   "execution_count": null,
   "metadata": {
    "collapsed": true
   },
   "outputs": [],
   "source": [
    "# import requests\n",
    "# from bs4 import BeautifulSoup as bs\n",
    "# import urllib\n",
    "# import os\n",
    "\n",
    "\n",
    "# _URL = 'http://storage.googleapis.com/books/ngrams/books/datasetsv2.html'\n",
    "\n",
    "# # Make a list of everything i want\n",
    "# r = requests.get(_URL)\n",
    "# soup = bs(r.text, \"lxml\")\n",
    "# names = []\n",
    "# for i, link in enumerate(soup.findAll('a')):\n",
    "#     print(i)\n",
    "#     # _FULLURL = _URL + link.get('href')\n",
    "#     _FULLURL = link.get('href')\n",
    "#     if _FULLURL.endswith('.gz') and '-eng-' in _FULLURL and '20120701' in _FULLURL:\n",
    "#         print(''.join([\n",
    "#             str(i),\n",
    "#             ' - Adding: ',\n",
    "#             soup.select('a')[i].attrs['href']\n",
    "#             ]))\n",
    "\n",
    "#         names.append(soup.select('a')[i].attrs['href'])\n",
    "\n",
    "# # names_urls = zip(names, urls)\n",
    "\n",
    "# for i, name in enumerate(names):\n",
    "#     # number im upto as there is no access to a connection to be able to download all this in one session\n",
    "#     if i < 486:\n",
    "#         pass\n",
    "#     else:\n",
    "#         try:\n",
    "#             os.remove(\"/media/sf_VMData/\" + name.split('/')[-1])\n",
    "#         except:\n",
    "#             print(''.join([\n",
    "#                 '\\nNow downloading ',\n",
    "#                 str(i),\n",
    "#                 ' of ',\n",
    "#                 str(len(names)),\n",
    "#                 '\\nFilename: ',\n",
    "#                 str(name)\n",
    "#                 ]))\n",
    "\n",
    "#             res = urllib.request.urlopen(name)\n",
    "#             DL_file = open(\"/media/sf_VMData/\" + name.split('/')[-1], 'wb')\n",
    "#             DL_file.write(res.read())\n",
    "#             DL_file.close()"
   ]
  },
  {
   "cell_type": "markdown",
   "metadata": {},
   "source": [
    "A few days later we had all the fictional data.\n",
    "\n",
    "All files contained a single tsv file compressed in a .tar.gz format.\n",
    "\n",
    "Here is where I ran into my first limitations:\n",
    "\n",
    "- I didn't actually have enough space to extract all the files to disk\n",
    "- A lot of the files were too big to read into python as they exceeded 12gb (the amount of memory assigned to my VM)\n",
    "- Data was split by alphabet rather than time, this would mean if I wanted to get a slice of time I'd need every single file\n",
    "\n",
    "PostgreSQL has some ability to compress data, with this in mind I decided to explore this path.\n",
    "As reading data into memory was not an option I used python and the gzip library to decompress on the fly and read the contained zip file line-by-line and insert those values into the database.\n",
    "\n",
    "Code here:\n"
   ]
  },
  {
   "cell_type": "code",
   "execution_count": null,
   "metadata": {
    "collapsed": true
   },
   "outputs": [],
   "source": [
    "# import urllib\n",
    "# import os\n",
    "# import gzip\n",
    "\n",
    "# from sqlalchemy import create_engine\n",
    "# import psycopg2\n",
    "\n",
    "\n",
    "# import numpy as np\n",
    "# import pandas as pd\n",
    "\n",
    "\n",
    "# def con_sql(db='postgres', usr='j', loc='localhost', pswd='ilovedatascience'):\n",
    "#     conn = psycopg2.connect(dbname=db, user=usr, host=loc, password=pswd)\n",
    "#     return conn\n",
    "\n",
    "\n",
    "# conn = con_sql()\n",
    "# c = conn.cursor()\n",
    "\n",
    "# def sql_qu(st, c=conn):\n",
    "#     df = pd.read_sql(st, con=conn)\n",
    "#     return df\n",
    "\n",
    "# # create = '''\n",
    "# #     CREATE TABLE \"ngrams\" (\n",
    "# #     \"n\" INTEGER,\n",
    "# #     \"ngram\" TEXT,\n",
    "# #     \"year\" INTEGER,\n",
    "# #     \"match_count\" INTEGER,\n",
    "# #     \"volume_count\" INTEGER)\n",
    "# #     ;\n",
    "# # '''\n",
    "# # c.execute(\"DROP TABLE ngrams;\")\n",
    "# # conn.commit()\n",
    "# # c.execute(create)\n",
    "# # conn.commit()\n",
    "# job_n = int(input('How many files to process:\\n>>'))\n",
    "# for item in os.listdir('/media/sf_VMData/'):\n",
    "#     if 'googlebooks-eng-fiction-all-5gram' in item and item.endswith('.gz'):\n",
    "#         print('Extracting: ', item)\n",
    "#         with gzip.open('/media/sf_VMData/'+item, 'rt') as f:\n",
    "#             file_content = f.read().splitlines()\n",
    "#             for line in file_content:\n",
    "#                 ngram = str(line.split('\\t')[0]).replace(\"\\'\",\"\\'\\'\")\n",
    "#                 year = str(line.split('\\t')[1])\n",
    "#                 match_count = str(line.split('\\t')[2])\n",
    "#                 volume_count = str(line.split('\\t')[3])\n",
    "\n",
    "#                 strsql = 'INSERT INTO ngrams VALUES (' + item[28] + ',' + \"'\" + ngram +\"'\" + ','+year+','+ match_count+','+ volume_count+')'\n",
    "#                 c.execute(strsql)\n",
    "#                 conn.commit()\n",
    "#         os.rename('/media/sf_VMData/'+item, '/media/sf_VMData/done/'+item)\n",
    "#     elif 'skip' not in item and 'done' not in item:\n",
    "#         print('yeah, nah: ', item)\n",
    "#         os.rename('/media/sf_VMData/'+item, '/media/sf_VMData/skip/'+item)\n",
    "#     else:\n",
    "#         pass\n",
    "#     job_n -= 1\n",
    "#     if job_n <= 0:\n",
    "#         break"
   ]
  },
  {
   "cell_type": "markdown",
   "metadata": {},
   "source": [
    "As you may of noticed it asks how many files i would like to use and stores it in a variable called job_n:\n",
    "\n",
    "job_n = int(input('How many files to process:\\n>>'))\n",
    "\n",
    "\n",
    "Also as a side note:\n",
    "During the debugging process I had included in the code c.execute(\"DROP TABLE ngrams;\") in order to start from a clean slate each time.\n",
    "\n",
    "Forgetting to remove this when reading the data into SQL in daily batches (dropping the table of data read in from the previous day) taught me an important lesson to check and double check your code is doing what you want before running it with an absent mind."
   ]
  },
  {
   "cell_type": "markdown",
   "metadata": {},
   "source": [
    "This process was also very slow, and in the end I only used the 1-gram data due to time and processing contraints.\n"
   ]
  },
  {
   "cell_type": "markdown",
   "metadata": {},
   "source": [
    "## Data input challanges:\n",
    "\n",
    "Hadoop/spark clusted lwere setup, however due to the timeline of the project and the learning curve of using the technolgies there was not suffiecnt time to utilize these\n",
    "Issues with code optimisation, non optimal code often made the difference between seconds and hours.\n"
   ]
  },
  {
   "cell_type": "markdown",
   "metadata": {},
   "source": [
    "Link to the next notebook: [EDA and Analysis](2. EDA and Analysis.ipynb)"
   ]
  },
  {
   "cell_type": "code",
   "execution_count": null,
   "metadata": {
    "collapsed": true
   },
   "outputs": [],
   "source": [
    "\n"
   ]
  },
  {
   "cell_type": "code",
   "execution_count": null,
   "metadata": {
    "collapsed": true
   },
   "outputs": [],
   "source": []
  },
  {
   "cell_type": "code",
   "execution_count": null,
   "metadata": {
    "collapsed": true
   },
   "outputs": [],
   "source": []
  },
  {
   "cell_type": "code",
   "execution_count": null,
   "metadata": {
    "collapsed": true
   },
   "outputs": [],
   "source": []
  },
  {
   "cell_type": "code",
   "execution_count": null,
   "metadata": {
    "collapsed": true
   },
   "outputs": [],
   "source": []
  },
  {
   "cell_type": "code",
   "execution_count": null,
   "metadata": {
    "collapsed": true
   },
   "outputs": [],
   "source": []
  },
  {
   "cell_type": "code",
   "execution_count": null,
   "metadata": {
    "collapsed": true
   },
   "outputs": [],
   "source": []
  },
  {
   "cell_type": "code",
   "execution_count": null,
   "metadata": {
    "collapsed": true
   },
   "outputs": [],
   "source": []
  },
  {
   "cell_type": "code",
   "execution_count": null,
   "metadata": {
    "collapsed": true
   },
   "outputs": [],
   "source": []
  },
  {
   "cell_type": "code",
   "execution_count": null,
   "metadata": {
    "collapsed": true
   },
   "outputs": [],
   "source": []
  },
  {
   "cell_type": "code",
   "execution_count": null,
   "metadata": {
    "collapsed": true
   },
   "outputs": [],
   "source": []
  },
  {
   "cell_type": "code",
   "execution_count": null,
   "metadata": {
    "collapsed": true
   },
   "outputs": [],
   "source": []
  },
  {
   "cell_type": "code",
   "execution_count": null,
   "metadata": {
    "collapsed": true
   },
   "outputs": [],
   "source": []
  },
  {
   "cell_type": "code",
   "execution_count": null,
   "metadata": {
    "collapsed": true
   },
   "outputs": [],
   "source": []
  },
  {
   "cell_type": "code",
   "execution_count": null,
   "metadata": {
    "collapsed": true
   },
   "outputs": [],
   "source": []
  },
  {
   "cell_type": "code",
   "execution_count": null,
   "metadata": {
    "collapsed": true
   },
   "outputs": [],
   "source": []
  },
  {
   "cell_type": "code",
   "execution_count": null,
   "metadata": {
    "collapsed": true
   },
   "outputs": [],
   "source": []
  },
  {
   "cell_type": "code",
   "execution_count": null,
   "metadata": {
    "collapsed": true
   },
   "outputs": [],
   "source": []
  },
  {
   "cell_type": "code",
   "execution_count": null,
   "metadata": {
    "collapsed": true
   },
   "outputs": [],
   "source": []
  },
  {
   "cell_type": "code",
   "execution_count": null,
   "metadata": {
    "collapsed": true
   },
   "outputs": [],
   "source": []
  },
  {
   "cell_type": "code",
   "execution_count": null,
   "metadata": {
    "collapsed": true
   },
   "outputs": [],
   "source": []
  },
  {
   "cell_type": "code",
   "execution_count": null,
   "metadata": {
    "collapsed": true
   },
   "outputs": [],
   "source": []
  },
  {
   "cell_type": "code",
   "execution_count": null,
   "metadata": {
    "collapsed": true
   },
   "outputs": [],
   "source": []
  },
  {
   "cell_type": "code",
   "execution_count": null,
   "metadata": {
    "collapsed": true
   },
   "outputs": [],
   "source": []
  },
  {
   "cell_type": "code",
   "execution_count": null,
   "metadata": {
    "collapsed": true
   },
   "outputs": [],
   "source": []
  },
  {
   "cell_type": "code",
   "execution_count": null,
   "metadata": {
    "collapsed": true
   },
   "outputs": [],
   "source": []
  },
  {
   "cell_type": "code",
   "execution_count": null,
   "metadata": {
    "collapsed": true
   },
   "outputs": [],
   "source": []
  },
  {
   "cell_type": "code",
   "execution_count": null,
   "metadata": {
    "collapsed": true
   },
   "outputs": [],
   "source": []
  },
  {
   "cell_type": "code",
   "execution_count": null,
   "metadata": {
    "collapsed": true
   },
   "outputs": [],
   "source": []
  },
  {
   "cell_type": "code",
   "execution_count": null,
   "metadata": {
    "collapsed": true
   },
   "outputs": [],
   "source": []
  },
  {
   "cell_type": "code",
   "execution_count": null,
   "metadata": {
    "collapsed": true
   },
   "outputs": [],
   "source": []
  },
  {
   "cell_type": "code",
   "execution_count": null,
   "metadata": {
    "collapsed": true
   },
   "outputs": [],
   "source": []
  },
  {
   "cell_type": "code",
   "execution_count": null,
   "metadata": {
    "collapsed": true
   },
   "outputs": [],
   "source": []
  },
  {
   "cell_type": "code",
   "execution_count": null,
   "metadata": {
    "collapsed": true
   },
   "outputs": [],
   "source": []
  },
  {
   "cell_type": "code",
   "execution_count": null,
   "metadata": {
    "collapsed": true
   },
   "outputs": [],
   "source": []
  },
  {
   "cell_type": "code",
   "execution_count": null,
   "metadata": {
    "collapsed": true
   },
   "outputs": [],
   "source": []
  },
  {
   "cell_type": "code",
   "execution_count": null,
   "metadata": {
    "collapsed": true
   },
   "outputs": [],
   "source": []
  },
  {
   "cell_type": "code",
   "execution_count": null,
   "metadata": {
    "collapsed": true
   },
   "outputs": [],
   "source": []
  },
  {
   "cell_type": "code",
   "execution_count": null,
   "metadata": {
    "collapsed": true
   },
   "outputs": [],
   "source": []
  },
  {
   "cell_type": "code",
   "execution_count": null,
   "metadata": {
    "collapsed": true
   },
   "outputs": [],
   "source": []
  },
  {
   "cell_type": "code",
   "execution_count": null,
   "metadata": {
    "collapsed": true
   },
   "outputs": [],
   "source": []
  },
  {
   "cell_type": "code",
   "execution_count": null,
   "metadata": {
    "collapsed": true
   },
   "outputs": [],
   "source": []
  },
  {
   "cell_type": "code",
   "execution_count": null,
   "metadata": {
    "collapsed": true
   },
   "outputs": [],
   "source": []
  },
  {
   "cell_type": "code",
   "execution_count": null,
   "metadata": {
    "collapsed": true
   },
   "outputs": [],
   "source": []
  },
  {
   "cell_type": "code",
   "execution_count": null,
   "metadata": {
    "collapsed": true
   },
   "outputs": [],
   "source": []
  },
  {
   "cell_type": "code",
   "execution_count": null,
   "metadata": {
    "collapsed": true
   },
   "outputs": [],
   "source": []
  },
  {
   "cell_type": "code",
   "execution_count": null,
   "metadata": {
    "collapsed": true
   },
   "outputs": [],
   "source": []
  },
  {
   "cell_type": "code",
   "execution_count": null,
   "metadata": {
    "collapsed": true
   },
   "outputs": [],
   "source": []
  },
  {
   "cell_type": "code",
   "execution_count": null,
   "metadata": {
    "collapsed": true
   },
   "outputs": [],
   "source": []
  },
  {
   "cell_type": "code",
   "execution_count": null,
   "metadata": {
    "collapsed": true
   },
   "outputs": [],
   "source": []
  },
  {
   "cell_type": "code",
   "execution_count": null,
   "metadata": {
    "collapsed": true
   },
   "outputs": [],
   "source": []
  },
  {
   "cell_type": "code",
   "execution_count": null,
   "metadata": {
    "collapsed": true
   },
   "outputs": [],
   "source": []
  },
  {
   "cell_type": "code",
   "execution_count": null,
   "metadata": {
    "collapsed": true
   },
   "outputs": [],
   "source": []
  },
  {
   "cell_type": "code",
   "execution_count": null,
   "metadata": {
    "collapsed": true
   },
   "outputs": [],
   "source": []
  },
  {
   "cell_type": "code",
   "execution_count": null,
   "metadata": {
    "collapsed": true
   },
   "outputs": [],
   "source": []
  },
  {
   "cell_type": "code",
   "execution_count": null,
   "metadata": {
    "collapsed": true
   },
   "outputs": [],
   "source": []
  },
  {
   "cell_type": "code",
   "execution_count": null,
   "metadata": {
    "collapsed": true
   },
   "outputs": [],
   "source": []
  },
  {
   "cell_type": "code",
   "execution_count": null,
   "metadata": {
    "collapsed": true
   },
   "outputs": [],
   "source": []
  },
  {
   "cell_type": "code",
   "execution_count": null,
   "metadata": {
    "collapsed": true
   },
   "outputs": [],
   "source": []
  },
  {
   "cell_type": "code",
   "execution_count": null,
   "metadata": {
    "collapsed": true
   },
   "outputs": [],
   "source": []
  },
  {
   "cell_type": "code",
   "execution_count": null,
   "metadata": {
    "collapsed": true
   },
   "outputs": [],
   "source": []
  },
  {
   "cell_type": "code",
   "execution_count": null,
   "metadata": {
    "collapsed": true
   },
   "outputs": [],
   "source": []
  },
  {
   "cell_type": "code",
   "execution_count": null,
   "metadata": {
    "collapsed": true
   },
   "outputs": [],
   "source": []
  },
  {
   "cell_type": "code",
   "execution_count": null,
   "metadata": {
    "collapsed": true
   },
   "outputs": [],
   "source": []
  },
  {
   "cell_type": "code",
   "execution_count": null,
   "metadata": {
    "collapsed": true
   },
   "outputs": [],
   "source": []
  },
  {
   "cell_type": "code",
   "execution_count": null,
   "metadata": {
    "collapsed": true
   },
   "outputs": [],
   "source": []
  },
  {
   "cell_type": "code",
   "execution_count": null,
   "metadata": {
    "collapsed": true
   },
   "outputs": [],
   "source": []
  },
  {
   "cell_type": "code",
   "execution_count": null,
   "metadata": {
    "collapsed": true
   },
   "outputs": [],
   "source": []
  },
  {
   "cell_type": "code",
   "execution_count": null,
   "metadata": {
    "collapsed": true
   },
   "outputs": [],
   "source": []
  },
  {
   "cell_type": "code",
   "execution_count": null,
   "metadata": {
    "collapsed": true
   },
   "outputs": [],
   "source": []
  },
  {
   "cell_type": "code",
   "execution_count": null,
   "metadata": {
    "collapsed": true
   },
   "outputs": [],
   "source": []
  },
  {
   "cell_type": "code",
   "execution_count": null,
   "metadata": {
    "collapsed": true
   },
   "outputs": [],
   "source": []
  },
  {
   "cell_type": "code",
   "execution_count": null,
   "metadata": {
    "collapsed": true
   },
   "outputs": [],
   "source": []
  },
  {
   "cell_type": "code",
   "execution_count": null,
   "metadata": {
    "collapsed": true
   },
   "outputs": [],
   "source": []
  },
  {
   "cell_type": "code",
   "execution_count": null,
   "metadata": {
    "collapsed": true
   },
   "outputs": [],
   "source": []
  },
  {
   "cell_type": "code",
   "execution_count": null,
   "metadata": {
    "collapsed": true
   },
   "outputs": [],
   "source": []
  },
  {
   "cell_type": "code",
   "execution_count": null,
   "metadata": {
    "collapsed": true
   },
   "outputs": [],
   "source": []
  },
  {
   "cell_type": "code",
   "execution_count": null,
   "metadata": {
    "collapsed": true
   },
   "outputs": [],
   "source": []
  },
  {
   "cell_type": "code",
   "execution_count": null,
   "metadata": {
    "collapsed": true
   },
   "outputs": [],
   "source": []
  },
  {
   "cell_type": "code",
   "execution_count": null,
   "metadata": {
    "collapsed": true
   },
   "outputs": [],
   "source": []
  },
  {
   "cell_type": "code",
   "execution_count": null,
   "metadata": {
    "collapsed": true
   },
   "outputs": [],
   "source": []
  },
  {
   "cell_type": "code",
   "execution_count": null,
   "metadata": {
    "collapsed": true
   },
   "outputs": [],
   "source": []
  },
  {
   "cell_type": "code",
   "execution_count": null,
   "metadata": {
    "collapsed": true
   },
   "outputs": [],
   "source": []
  },
  {
   "cell_type": "code",
   "execution_count": null,
   "metadata": {
    "collapsed": true
   },
   "outputs": [],
   "source": []
  },
  {
   "cell_type": "code",
   "execution_count": null,
   "metadata": {
    "collapsed": true
   },
   "outputs": [],
   "source": []
  },
  {
   "cell_type": "code",
   "execution_count": null,
   "metadata": {
    "collapsed": true
   },
   "outputs": [],
   "source": []
  },
  {
   "cell_type": "code",
   "execution_count": null,
   "metadata": {
    "collapsed": true
   },
   "outputs": [],
   "source": []
  },
  {
   "cell_type": "code",
   "execution_count": null,
   "metadata": {
    "collapsed": true
   },
   "outputs": [],
   "source": []
  },
  {
   "cell_type": "code",
   "execution_count": null,
   "metadata": {
    "collapsed": true
   },
   "outputs": [],
   "source": []
  },
  {
   "cell_type": "code",
   "execution_count": null,
   "metadata": {
    "collapsed": true
   },
   "outputs": [],
   "source": []
  },
  {
   "cell_type": "code",
   "execution_count": null,
   "metadata": {
    "collapsed": true
   },
   "outputs": [],
   "source": []
  },
  {
   "cell_type": "code",
   "execution_count": null,
   "metadata": {
    "collapsed": true
   },
   "outputs": [],
   "source": []
  }
 ],
 "metadata": {
  "kernelspec": {
   "display_name": "Python 3",
   "language": "python",
   "name": "python3"
  },
  "language_info": {
   "codemirror_mode": {
    "name": "ipython",
    "version": 3
   },
   "file_extension": ".py",
   "mimetype": "text/x-python",
   "name": "python",
   "nbconvert_exporter": "python",
   "pygments_lexer": "ipython3",
   "version": "3.5.3"
  }
 },
 "nbformat": 4,
 "nbformat_minor": 2
}
